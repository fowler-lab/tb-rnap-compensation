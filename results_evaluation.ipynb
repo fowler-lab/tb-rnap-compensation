{
 "cells": [
  {
   "cell_type": "code",
   "execution_count": 1,
   "id": "4921be80",
   "metadata": {},
   "outputs": [],
   "source": [
    "import pandas"
   ]
  },
  {
   "cell_type": "markdown",
   "id": "4d9a46f0",
   "metadata": {},
   "source": [
    "load csv with results from fishers exact test"
   ]
  },
  {
   "cell_type": "code",
   "execution_count": 91,
   "id": "d6d95dd1",
   "metadata": {},
   "outputs": [
    {
     "data": {
      "text/html": [
       "<div>\n",
       "<style scoped>\n",
       "    .dataframe tbody tr th:only-of-type {\n",
       "        vertical-align: middle;\n",
       "    }\n",
       "\n",
       "    .dataframe tbody tr th {\n",
       "        vertical-align: top;\n",
       "    }\n",
       "\n",
       "    .dataframe thead th {\n",
       "        text-align: right;\n",
       "    }\n",
       "</style>\n",
       "<table border=\"1\" class=\"dataframe\">\n",
       "  <thead>\n",
       "    <tr style=\"text-align: right;\">\n",
       "      <th></th>\n",
       "      <th>resistant_mutation</th>\n",
       "      <th>other_mutation</th>\n",
       "      <th>p_right_tail</th>\n",
       "      <th>p_left_tail</th>\n",
       "    </tr>\n",
       "  </thead>\n",
       "  <tbody>\n",
       "    <tr>\n",
       "      <th>0</th>\n",
       "      <td>rpoB_S450L</td>\n",
       "      <td>rpoC_c-36t</td>\n",
       "      <td>1.0</td>\n",
       "      <td>8.876222e-07</td>\n",
       "    </tr>\n",
       "    <tr>\n",
       "      <th>1</th>\n",
       "      <td>rpoB_D435G</td>\n",
       "      <td>rpoC_c-36t</td>\n",
       "      <td>1.0</td>\n",
       "      <td>8.239368e-01</td>\n",
       "    </tr>\n",
       "    <tr>\n",
       "      <th>2</th>\n",
       "      <td>rpoB_H445Y</td>\n",
       "      <td>rpoC_c-36t</td>\n",
       "      <td>1.0</td>\n",
       "      <td>4.998076e-01</td>\n",
       "    </tr>\n",
       "    <tr>\n",
       "      <th>3</th>\n",
       "      <td>rpoB_H445D</td>\n",
       "      <td>rpoC_c-36t</td>\n",
       "      <td>1.0</td>\n",
       "      <td>5.297101e-01</td>\n",
       "    </tr>\n",
       "    <tr>\n",
       "      <th>4</th>\n",
       "      <td>rpoB_H445L</td>\n",
       "      <td>rpoC_c-36t</td>\n",
       "      <td>1.0</td>\n",
       "      <td>7.734996e-01</td>\n",
       "    </tr>\n",
       "    <tr>\n",
       "      <th>...</th>\n",
       "      <td>...</td>\n",
       "      <td>...</td>\n",
       "      <td>...</td>\n",
       "      <td>...</td>\n",
       "    </tr>\n",
       "    <tr>\n",
       "      <th>19189</th>\n",
       "      <td>rpoB_H445C</td>\n",
       "      <td>rpoB_E481E</td>\n",
       "      <td>1.0</td>\n",
       "      <td>8.546320e-01</td>\n",
       "    </tr>\n",
       "    <tr>\n",
       "      <th>19190</th>\n",
       "      <td>rpoB_Q432P</td>\n",
       "      <td>rpoB_E481E</td>\n",
       "      <td>1.0</td>\n",
       "      <td>8.858884e-01</td>\n",
       "    </tr>\n",
       "    <tr>\n",
       "      <th>19191</th>\n",
       "      <td>rpoB_S450W</td>\n",
       "      <td>rpoB_E481E</td>\n",
       "      <td>1.0</td>\n",
       "      <td>5.048805e-01</td>\n",
       "    </tr>\n",
       "    <tr>\n",
       "      <th>19192</th>\n",
       "      <td>rpoB_Q432K</td>\n",
       "      <td>rpoB_E481E</td>\n",
       "      <td>1.0</td>\n",
       "      <td>8.858884e-01</td>\n",
       "    </tr>\n",
       "    <tr>\n",
       "      <th>19193</th>\n",
       "      <td>rpoB_H445S</td>\n",
       "      <td>rpoB_E481E</td>\n",
       "      <td>1.0</td>\n",
       "      <td>8.681695e-01</td>\n",
       "    </tr>\n",
       "  </tbody>\n",
       "</table>\n",
       "<p>19194 rows × 4 columns</p>\n",
       "</div>"
      ],
      "text/plain": [
       "      resistant_mutation other_mutation  p_right_tail   p_left_tail\n",
       "0             rpoB_S450L     rpoC_c-36t           1.0  8.876222e-07\n",
       "1             rpoB_D435G     rpoC_c-36t           1.0  8.239368e-01\n",
       "2             rpoB_H445Y     rpoC_c-36t           1.0  4.998076e-01\n",
       "3             rpoB_H445D     rpoC_c-36t           1.0  5.297101e-01\n",
       "4             rpoB_H445L     rpoC_c-36t           1.0  7.734996e-01\n",
       "...                  ...            ...           ...           ...\n",
       "19189         rpoB_H445C     rpoB_E481E           1.0  8.546320e-01\n",
       "19190         rpoB_Q432P     rpoB_E481E           1.0  8.858884e-01\n",
       "19191         rpoB_S450W     rpoB_E481E           1.0  5.048805e-01\n",
       "19192         rpoB_Q432K     rpoB_E481E           1.0  8.858884e-01\n",
       "19193         rpoB_H445S     rpoB_E481E           1.0  8.681695e-01\n",
       "\n",
       "[19194 rows x 4 columns]"
      ]
     },
     "execution_count": 91,
     "metadata": {},
     "output_type": "execute_result"
    }
   ],
   "source": [
    "results=pandas.read_csv('/Users/viktoriabrunner/Documents/Studium/PhD/Project1_rev/repository/tb-rnap-compensation/results.csv')\n",
    "#results.drop(columns=['Unnamed: 0'], inplace=True)\n",
    "results"
   ]
  },
  {
   "cell_type": "markdown",
   "id": "e25297c4",
   "metadata": {},
   "source": [
    "Load known CMs from reference papers"
   ]
  },
  {
   "cell_type": "code",
   "execution_count": 96,
   "id": "39ae017a",
   "metadata": {},
   "outputs": [
    {
     "data": {
      "text/html": [
       "<div>\n",
       "<style scoped>\n",
       "    .dataframe tbody tr th:only-of-type {\n",
       "        vertical-align: middle;\n",
       "    }\n",
       "\n",
       "    .dataframe tbody tr th {\n",
       "        vertical-align: top;\n",
       "    }\n",
       "\n",
       "    .dataframe thead th {\n",
       "        text-align: right;\n",
       "    }\n",
       "</style>\n",
       "<table border=\"1\" class=\"dataframe\">\n",
       "  <thead>\n",
       "    <tr style=\"text-align: right;\">\n",
       "      <th></th>\n",
       "      <th>mutation</th>\n",
       "      <th>Comas_2012</th>\n",
       "      <th>Li_2016</th>\n",
       "      <th>deVos_2013</th>\n",
       "      <th>VargasRuiz_2020</th>\n",
       "      <th>Casali_2012</th>\n",
       "      <th>sum</th>\n",
       "    </tr>\n",
       "  </thead>\n",
       "  <tbody>\n",
       "    <tr>\n",
       "      <th>4</th>\n",
       "      <td>rpoA_G31A</td>\n",
       "      <td>0</td>\n",
       "      <td>1</td>\n",
       "      <td>0</td>\n",
       "      <td>0</td>\n",
       "      <td>0</td>\n",
       "      <td>1.0</td>\n",
       "    </tr>\n",
       "    <tr>\n",
       "      <th>5</th>\n",
       "      <td>rpoA_G31S</td>\n",
       "      <td>0</td>\n",
       "      <td>1</td>\n",
       "      <td>0</td>\n",
       "      <td>0</td>\n",
       "      <td>0</td>\n",
       "      <td>1.0</td>\n",
       "    </tr>\n",
       "    <tr>\n",
       "      <th>6</th>\n",
       "      <td>rpoA_D57N</td>\n",
       "      <td>0</td>\n",
       "      <td>0</td>\n",
       "      <td>1</td>\n",
       "      <td>0</td>\n",
       "      <td>0</td>\n",
       "      <td>1.0</td>\n",
       "    </tr>\n",
       "    <tr>\n",
       "      <th>7</th>\n",
       "      <td>rpoA_V59A</td>\n",
       "      <td>0</td>\n",
       "      <td>1</td>\n",
       "      <td>0</td>\n",
       "      <td>0</td>\n",
       "      <td>0</td>\n",
       "      <td>1.0</td>\n",
       "    </tr>\n",
       "    <tr>\n",
       "      <th>8</th>\n",
       "      <td>rpoA_S165I</td>\n",
       "      <td>0</td>\n",
       "      <td>0</td>\n",
       "      <td>1</td>\n",
       "      <td>0</td>\n",
       "      <td>0</td>\n",
       "      <td>1.0</td>\n",
       "    </tr>\n",
       "    <tr>\n",
       "      <th>...</th>\n",
       "      <td>...</td>\n",
       "      <td>...</td>\n",
       "      <td>...</td>\n",
       "      <td>...</td>\n",
       "      <td>...</td>\n",
       "      <td>...</td>\n",
       "      <td>...</td>\n",
       "    </tr>\n",
       "    <tr>\n",
       "      <th>89</th>\n",
       "      <td>rpoC_V1206G</td>\n",
       "      <td>0</td>\n",
       "      <td>0</td>\n",
       "      <td>0</td>\n",
       "      <td>1</td>\n",
       "      <td>0</td>\n",
       "      <td>1.0</td>\n",
       "    </tr>\n",
       "    <tr>\n",
       "      <th>90</th>\n",
       "      <td>rpoC_D1218A</td>\n",
       "      <td>0</td>\n",
       "      <td>0</td>\n",
       "      <td>0</td>\n",
       "      <td>1</td>\n",
       "      <td>0</td>\n",
       "      <td>1.0</td>\n",
       "    </tr>\n",
       "    <tr>\n",
       "      <th>91</th>\n",
       "      <td>rpoC_L1245R</td>\n",
       "      <td>0</td>\n",
       "      <td>0</td>\n",
       "      <td>0</td>\n",
       "      <td>1</td>\n",
       "      <td>0</td>\n",
       "      <td>1.0</td>\n",
       "    </tr>\n",
       "    <tr>\n",
       "      <th>92</th>\n",
       "      <td>rpoC_V1252L</td>\n",
       "      <td>0</td>\n",
       "      <td>0</td>\n",
       "      <td>0</td>\n",
       "      <td>1</td>\n",
       "      <td>0</td>\n",
       "      <td>1.0</td>\n",
       "    </tr>\n",
       "    <tr>\n",
       "      <th>93</th>\n",
       "      <td>rpoC_V1252M</td>\n",
       "      <td>0</td>\n",
       "      <td>0</td>\n",
       "      <td>0</td>\n",
       "      <td>1</td>\n",
       "      <td>0</td>\n",
       "      <td>1.0</td>\n",
       "    </tr>\n",
       "  </tbody>\n",
       "</table>\n",
       "<p>90 rows × 7 columns</p>\n",
       "</div>"
      ],
      "text/plain": [
       "       mutation Comas_2012 Li_2016 deVos_2013 VargasRuiz_2020 Casali_2012  sum\n",
       "4     rpoA_G31A          0       1          0               0           0  1.0\n",
       "5     rpoA_G31S          0       1          0               0           0  1.0\n",
       "6     rpoA_D57N          0       0          1               0           0  1.0\n",
       "7     rpoA_V59A          0       1          0               0           0  1.0\n",
       "8    rpoA_S165I          0       0          1               0           0  1.0\n",
       "..          ...        ...     ...        ...             ...         ...  ...\n",
       "89  rpoC_V1206G          0       0          0               1           0  1.0\n",
       "90  rpoC_D1218A          0       0          0               1           0  1.0\n",
       "91  rpoC_L1245R          0       0          0               1           0  1.0\n",
       "92  rpoC_V1252L          0       0          0               1           0  1.0\n",
       "93  rpoC_V1252M          0       0          0               1           0  1.0\n",
       "\n",
       "[90 rows x 7 columns]"
      ]
     },
     "execution_count": 96,
     "metadata": {},
     "output_type": "execute_result"
    }
   ],
   "source": [
    "reference=pandas.read_excel(r'/Users/viktoriabrunner/Documents/Studium/PhD/Project1_rev/repository/tb-rnap-compensation/reference/Ref_known_CMs.xlsx', sheet_name='described_CMs_binary')\n",
    "reference.drop([0,1,2,3], axis=0, inplace=True)\n",
    "reference.drop(index=reference.index[-2:], axis=0, inplace=True)\n",
    "reference"
   ]
  },
  {
   "cell_type": "markdown",
   "id": "3dc591dc",
   "metadata": {},
   "source": [
    "Determine how many and which of the reference mutations appear in ALL tested other_mutations"
   ]
  },
  {
   "cell_type": "code",
   "execution_count": 85,
   "id": "a6f311a6",
   "metadata": {},
   "outputs": [
    {
     "name": "stdout",
     "output_type": "stream",
     "text": [
      "30\n"
     ]
    },
    {
     "data": {
      "text/plain": [
       "9       rpoC_I491V\n",
       "18      rpoC_G519D\n",
       "21      rpoC_R741S\n",
       "28      rpoA_E319K\n",
       "107     rpoC_D485Y\n",
       "114     rpoB_I480V\n",
       "138     rpoC_V517L\n",
       "189     rpoC_D485N\n",
       "190     rpoC_L527V\n",
       "197     rpoC_T812I\n",
       "211     rpoC_W484G\n",
       "230     rpoC_V483G\n",
       "293     rpoC_H525Q\n",
       "336     rpoC_G433S\n",
       "522     rpoA_V183G\n",
       "534    rpoC_V1252L\n",
       "567     rpoC_V431M\n",
       "576     rpoC_F452S\n",
       "594     rpoC_I491T\n",
       "700     rpoC_L516P\n",
       "732     rpoC_N698S\n",
       "738     rpoC_L507V\n",
       "754     rpoC_V483A\n",
       "757     rpoA_T187A\n",
       "760    rpoC_P1040R\n",
       "762     rpoC_G332R\n",
       "783     rpoC_N698K\n",
       "817    rpoC_V1252M\n",
       "823     rpoC_A521D\n",
       "829    rpoC_P1040A\n",
       "dtype: object"
      ]
     },
     "execution_count": 85,
     "metadata": {},
     "output_type": "execute_result"
    }
   ],
   "source": [
    "unique_results=pandas.Series(results['other_mutation'].unique())\n",
    "print(len(unique_results[unique_results.isin(reference['mutation'])]))\n",
    "unique_results[unique_results.isin(reference['mutation'])]"
   ]
  },
  {
   "cell_type": "markdown",
   "id": "0c86e4c0",
   "metadata": {},
   "source": [
    "Determine which other_mutations are significantly correlated with resistance mutations on a 1% level including bonferroni multiple testing correction"
   ]
  },
  {
   "cell_type": "code",
   "execution_count": 86,
   "id": "bc60d7e2",
   "metadata": {},
   "outputs": [
    {
     "name": "stdout",
     "output_type": "stream",
     "text": [
      "88 70\n"
     ]
    },
    {
     "data": {
      "text/plain": [
       "0      rpoC_I491V\n",
       "1      rpoC_G519D\n",
       "2      rpoC_R741S\n",
       "3     rpoC_E1092D\n",
       "4      rpoC_S548S\n",
       "         ...     \n",
       "65     rpoC_F452L\n",
       "66     rpoB_Q975H\n",
       "67    rpoC_V1252M\n",
       "68     rpoC_A521D\n",
       "69    rpoC_P1040A\n",
       "Length: 70, dtype: object"
      ]
     },
     "execution_count": 86,
     "metadata": {},
     "output_type": "execute_result"
    }
   ],
   "source": [
    "hits=results[(results.p_right_tail<(0.01/151724))].other_mutation\n",
    "print(len(hits),len(hits.unique()))\n",
    "unique_hits=pandas.Series(hits.unique())\n",
    "unique_hits"
   ]
  },
  {
   "cell_type": "markdown",
   "id": "43302375",
   "metadata": {},
   "source": [
    "Determine which of the significantly correlated mutations are in the reference CM set"
   ]
  },
  {
   "cell_type": "code",
   "execution_count": 77,
   "id": "5a0261f2",
   "metadata": {},
   "outputs": [
    {
     "data": {
      "text/plain": [
       "0      rpoC_I491V\n",
       "1      rpoC_G519D\n",
       "2      rpoC_R741S\n",
       "6      rpoC_D485Y\n",
       "7      rpoB_I480V\n",
       "12     rpoC_V517L\n",
       "15     rpoC_D485N\n",
       "16     rpoC_L527V\n",
       "18     rpoC_T812I\n",
       "21     rpoC_W484G\n",
       "23     rpoC_V483G\n",
       "26     rpoC_H525Q\n",
       "28     rpoC_G433S\n",
       "39     rpoA_V183G\n",
       "40    rpoC_V1252L\n",
       "42     rpoC_V431M\n",
       "43     rpoC_F452S\n",
       "44     rpoC_I491T\n",
       "53     rpoC_L516P\n",
       "54     rpoC_N698S\n",
       "56     rpoC_L507V\n",
       "57     rpoC_V483A\n",
       "59     rpoA_T187A\n",
       "60    rpoC_P1040R\n",
       "61     rpoC_G332R\n",
       "63     rpoC_N698K\n",
       "67    rpoC_V1252M\n",
       "68     rpoC_A521D\n",
       "69    rpoC_P1040A\n",
       "dtype: object"
      ]
     },
     "execution_count": 77,
     "metadata": {},
     "output_type": "execute_result"
    }
   ],
   "source": [
    "unique_hits[unique_hits.isin(reference['mutation'])]"
   ]
  },
  {
   "cell_type": "markdown",
   "id": "d0c341c1",
   "metadata": {},
   "source": [
    "Determine which percentage of reference CMs are significantly correlated in our dataset"
   ]
  },
  {
   "cell_type": "code",
   "execution_count": 87,
   "id": "f6c8a6f0",
   "metadata": {},
   "outputs": [
    {
     "data": {
      "text/plain": [
       "0.9666666666666667"
      ]
     },
     "execution_count": 87,
     "metadata": {},
     "output_type": "execute_result"
    }
   ],
   "source": [
    "len(unique_hits[unique_hits.isin(reference['mutation'])])/len(unique_results[unique_results.isin(reference['mutation'])])"
   ]
  },
  {
   "cell_type": "markdown",
   "id": "957cfc39",
   "metadata": {},
   "source": [
    "Determine which percentage of reference CMs are found in our significant hits"
   ]
  },
  {
   "cell_type": "code",
   "execution_count": 88,
   "id": "0a291643",
   "metadata": {},
   "outputs": [
    {
     "data": {
      "text/plain": [
       "0.32222222222222224"
      ]
     },
     "execution_count": 88,
     "metadata": {},
     "output_type": "execute_result"
    }
   ],
   "source": [
    "len(unique_hits[unique_hits.isin(reference['mutation'])])/len(reference)"
   ]
  },
  {
   "cell_type": "markdown",
   "id": "5059aeb7",
   "metadata": {},
   "source": [
    "List mutations that are significant but were not previously described"
   ]
  },
  {
   "cell_type": "code",
   "execution_count": 108,
   "id": "ccd2c7e1",
   "metadata": {},
   "outputs": [
    {
     "data": {
      "text/plain": [
       "3        rpoC_E1092D\n",
       "4         rpoC_S548S\n",
       "5         rpoB_A692T\n",
       "8         rpoB_R827C\n",
       "9         rpoC_K445R\n",
       "10         rpoC_Y61Y\n",
       "11        rpoC_G594E\n",
       "13       rpoC_E1033A\n",
       "14        rpoC_A542A\n",
       "17        rpoB_c-61t\n",
       "19        rpoB_K891E\n",
       "20        sigA_D146E\n",
       "22        rpoC_N416S\n",
       "24        rpoB_I488V\n",
       "25       rpoC_K1152Q\n",
       "27        rpoC_L547V\n",
       "29         rpoB_P45L\n",
       "30        rpoC_L873L\n",
       "31    rpoA_-40_indel\n",
       "32       rpoC_P1040S\n",
       "33       rpoC_V1039A\n",
       "34        rpoC_G332S\n",
       "35       rpoB_I1106T\n",
       "36        rpoB_L731P\n",
       "37         rpoB_P45S\n",
       "38        rpoB_E561E\n",
       "41        rpoB_V496A\n",
       "45        rpoB_V695L\n",
       "46        rpoB_A286V\n",
       "47        rpoB_G876G\n",
       "48        rpoB_A405P\n",
       "49         rpoC_C62C\n",
       "50        rpoC_P481T\n",
       "51         rpoZ_S22S\n",
       "52        rpoB_Q409R\n",
       "55        rpoC_N826T\n",
       "58       rpoB_A1075A\n",
       "62        rpoB_E761D\n",
       "64    sigA_247_indel\n",
       "65        rpoC_F452L\n",
       "66        rpoB_Q975H\n",
       "dtype: object"
      ]
     },
     "execution_count": 108,
     "metadata": {},
     "output_type": "execute_result"
    }
   ],
   "source": [
    "unique_hits[~unique_hits.isin(reference['mutation'])]"
   ]
  },
  {
   "cell_type": "markdown",
   "id": "2a9133ed",
   "metadata": {},
   "source": [
    "Perform similar analysis with conservative reference list"
   ]
  },
  {
   "cell_type": "code",
   "execution_count": 100,
   "id": "c42b8821",
   "metadata": {},
   "outputs": [
    {
     "data": {
      "text/html": [
       "<div>\n",
       "<style scoped>\n",
       "    .dataframe tbody tr th:only-of-type {\n",
       "        vertical-align: middle;\n",
       "    }\n",
       "\n",
       "    .dataframe tbody tr th {\n",
       "        vertical-align: top;\n",
       "    }\n",
       "\n",
       "    .dataframe thead th {\n",
       "        text-align: right;\n",
       "    }\n",
       "</style>\n",
       "<table border=\"1\" class=\"dataframe\">\n",
       "  <thead>\n",
       "    <tr style=\"text-align: right;\">\n",
       "      <th></th>\n",
       "      <th>mutation</th>\n",
       "      <th>Comas_2012</th>\n",
       "      <th>Li_2016</th>\n",
       "      <th>deVos_2013</th>\n",
       "      <th>VargasRuiz_2020</th>\n",
       "      <th>Casali_2012</th>\n",
       "      <th>sum</th>\n",
       "    </tr>\n",
       "  </thead>\n",
       "  <tbody>\n",
       "    <tr>\n",
       "      <th>3</th>\n",
       "      <td>rpoA_T187A</td>\n",
       "      <td>1</td>\n",
       "      <td>1</td>\n",
       "      <td>0</td>\n",
       "      <td>0</td>\n",
       "      <td>1</td>\n",
       "      <td>3.0</td>\n",
       "    </tr>\n",
       "    <tr>\n",
       "      <th>4</th>\n",
       "      <td>rpoA_T187A</td>\n",
       "      <td>1</td>\n",
       "      <td>1</td>\n",
       "      <td>0</td>\n",
       "      <td>0</td>\n",
       "      <td>1</td>\n",
       "      <td>3.0</td>\n",
       "    </tr>\n",
       "    <tr>\n",
       "      <th>5</th>\n",
       "      <td>rpoC_V483A</td>\n",
       "      <td>1</td>\n",
       "      <td>1</td>\n",
       "      <td>1</td>\n",
       "      <td>1</td>\n",
       "      <td>0</td>\n",
       "      <td>4.0</td>\n",
       "    </tr>\n",
       "    <tr>\n",
       "      <th>6</th>\n",
       "      <td>rpoC_V483G</td>\n",
       "      <td>1</td>\n",
       "      <td>1</td>\n",
       "      <td>1</td>\n",
       "      <td>1</td>\n",
       "      <td>1</td>\n",
       "      <td>5.0</td>\n",
       "    </tr>\n",
       "    <tr>\n",
       "      <th>7</th>\n",
       "      <td>rpoC_D485H</td>\n",
       "      <td>1</td>\n",
       "      <td>0</td>\n",
       "      <td>0</td>\n",
       "      <td>0</td>\n",
       "      <td>0</td>\n",
       "      <td>1.0</td>\n",
       "    </tr>\n",
       "    <tr>\n",
       "      <th>8</th>\n",
       "      <td>rpoC_D485N</td>\n",
       "      <td>1</td>\n",
       "      <td>0</td>\n",
       "      <td>0</td>\n",
       "      <td>0</td>\n",
       "      <td>1</td>\n",
       "      <td>2.0</td>\n",
       "    </tr>\n",
       "    <tr>\n",
       "      <th>9</th>\n",
       "      <td>rpoC_I491T</td>\n",
       "      <td>1</td>\n",
       "      <td>1</td>\n",
       "      <td>1</td>\n",
       "      <td>0</td>\n",
       "      <td>1</td>\n",
       "      <td>4.0</td>\n",
       "    </tr>\n",
       "    <tr>\n",
       "      <th>10</th>\n",
       "      <td>rpoC_I491V</td>\n",
       "      <td>1</td>\n",
       "      <td>1</td>\n",
       "      <td>0</td>\n",
       "      <td>1</td>\n",
       "      <td>0</td>\n",
       "      <td>3.0</td>\n",
       "    </tr>\n",
       "    <tr>\n",
       "      <th>11</th>\n",
       "      <td>rpoC_L516P</td>\n",
       "      <td>1</td>\n",
       "      <td>0</td>\n",
       "      <td>0</td>\n",
       "      <td>1</td>\n",
       "      <td>0</td>\n",
       "      <td>2.0</td>\n",
       "    </tr>\n",
       "    <tr>\n",
       "      <th>12</th>\n",
       "      <td>rpoC_N698H</td>\n",
       "      <td>1</td>\n",
       "      <td>0</td>\n",
       "      <td>1</td>\n",
       "      <td>0</td>\n",
       "      <td>0</td>\n",
       "      <td>2.0</td>\n",
       "    </tr>\n",
       "    <tr>\n",
       "      <th>13</th>\n",
       "      <td>rpoC_N698K</td>\n",
       "      <td>1</td>\n",
       "      <td>0</td>\n",
       "      <td>0</td>\n",
       "      <td>1</td>\n",
       "      <td>0</td>\n",
       "      <td>2.0</td>\n",
       "    </tr>\n",
       "    <tr>\n",
       "      <th>14</th>\n",
       "      <td>rpoC_N698S</td>\n",
       "      <td>1</td>\n",
       "      <td>1</td>\n",
       "      <td>1</td>\n",
       "      <td>1</td>\n",
       "      <td>0</td>\n",
       "      <td>4.0</td>\n",
       "    </tr>\n",
       "    <tr>\n",
       "      <th>15</th>\n",
       "      <td>rpoC_P1040R</td>\n",
       "      <td>0</td>\n",
       "      <td>0</td>\n",
       "      <td>0</td>\n",
       "      <td>1</td>\n",
       "      <td>0</td>\n",
       "      <td>1.0</td>\n",
       "    </tr>\n",
       "    <tr>\n",
       "      <th>16</th>\n",
       "      <td>rpoC_V1252L</td>\n",
       "      <td>0</td>\n",
       "      <td>0</td>\n",
       "      <td>0</td>\n",
       "      <td>1</td>\n",
       "      <td>0</td>\n",
       "      <td>1.0</td>\n",
       "    </tr>\n",
       "  </tbody>\n",
       "</table>\n",
       "</div>"
      ],
      "text/plain": [
       "       mutation Comas_2012 Li_2016 deVos_2013 VargasRuiz_2020 Casali_2012  sum\n",
       "3    rpoA_T187A          1       1          0               0           1  3.0\n",
       "4    rpoA_T187A          1       1          0               0           1  3.0\n",
       "5    rpoC_V483A          1       1          1               1           0  4.0\n",
       "6    rpoC_V483G          1       1          1               1           1  5.0\n",
       "7    rpoC_D485H          1       0          0               0           0  1.0\n",
       "8    rpoC_D485N          1       0          0               0           1  2.0\n",
       "9    rpoC_I491T          1       1          1               0           1  4.0\n",
       "10   rpoC_I491V          1       1          0               1           0  3.0\n",
       "11   rpoC_L516P          1       0          0               1           0  2.0\n",
       "12   rpoC_N698H          1       0          1               0           0  2.0\n",
       "13   rpoC_N698K          1       0          0               1           0  2.0\n",
       "14   rpoC_N698S          1       1          1               1           0  4.0\n",
       "15  rpoC_P1040R          0       0          0               1           0  1.0\n",
       "16  rpoC_V1252L          0       0          0               1           0  1.0"
      ]
     },
     "execution_count": 100,
     "metadata": {},
     "output_type": "execute_result"
    }
   ],
   "source": [
    "reference_cons=pandas.read_excel(r'/Users/viktoriabrunner/Documents/Studium/PhD/Project1_rev/repository/tb-rnap-compensation/reference/Ref_known_CMs.xlsx', sheet_name='conservative_CMs')\n",
    "reference_cons.drop([0,1,2], axis=0, inplace=True)\n",
    "reference_cons"
   ]
  },
  {
   "cell_type": "code",
   "execution_count": 101,
   "id": "1a61d97f",
   "metadata": {},
   "outputs": [
    {
     "data": {
      "text/plain": [
       "1.0"
      ]
     },
     "execution_count": 101,
     "metadata": {},
     "output_type": "execute_result"
    }
   ],
   "source": [
    "len(unique_hits[unique_hits.isin(reference_cons['mutation'])])/len(unique_results[unique_results.isin(reference_cons['mutation'])])"
   ]
  },
  {
   "cell_type": "code",
   "execution_count": 104,
   "id": "8363c0c5",
   "metadata": {},
   "outputs": [
    {
     "data": {
      "text/plain": [
       "0.7857142857142857"
      ]
     },
     "execution_count": 104,
     "metadata": {},
     "output_type": "execute_result"
    }
   ],
   "source": [
    "len(unique_hits[unique_hits.isin(reference_cons['mutation'])])/len(reference_cons)"
   ]
  },
  {
   "cell_type": "code",
   "execution_count": 106,
   "id": "a0b56798",
   "metadata": {},
   "outputs": [
    {
     "data": {
      "text/plain": [
       "0      rpoC_I491V\n",
       "15     rpoC_D485N\n",
       "23     rpoC_V483G\n",
       "40    rpoC_V1252L\n",
       "44     rpoC_I491T\n",
       "53     rpoC_L516P\n",
       "54     rpoC_N698S\n",
       "57     rpoC_V483A\n",
       "59     rpoA_T187A\n",
       "60    rpoC_P1040R\n",
       "63     rpoC_N698K\n",
       "dtype: object"
      ]
     },
     "execution_count": 106,
     "metadata": {},
     "output_type": "execute_result"
    }
   ],
   "source": [
    "unique_hits[unique_hits.isin(reference_cons['mutation'])]"
   ]
  },
  {
   "cell_type": "code",
   "execution_count": null,
   "id": "c0370780",
   "metadata": {},
   "outputs": [],
   "source": []
  }
 ],
 "metadata": {
  "kernelspec": {
   "display_name": "Python 3 (ipykernel)",
   "language": "python",
   "name": "python3"
  },
  "language_info": {
   "codemirror_mode": {
    "name": "ipython",
    "version": 3
   },
   "file_extension": ".py",
   "mimetype": "text/x-python",
   "name": "python",
   "nbconvert_exporter": "python",
   "pygments_lexer": "ipython3",
   "version": "3.9.7"
  }
 },
 "nbformat": 4,
 "nbformat_minor": 5
}
